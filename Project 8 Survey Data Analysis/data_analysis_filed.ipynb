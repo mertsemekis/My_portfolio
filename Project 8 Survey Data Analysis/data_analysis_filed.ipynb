{
 "cells": [
  {
   "cell_type": "markdown",
   "metadata": {},
   "source": [
    "# Import the libraries"
   ]
  },
  {
   "cell_type": "code",
   "execution_count": 1,
   "metadata": {},
   "outputs": [],
   "source": [
    "import pandas as pd\n",
    "import matplotlib.pyplot as plt\n",
    "%matplotlib inline"
   ]
  },
  {
   "cell_type": "markdown",
   "metadata": {},
   "source": [
    "# Import the data"
   ]
  },
  {
   "cell_type": "code",
   "execution_count": 2,
   "metadata": {},
   "outputs": [
    {
     "data": {
      "text/html": [
       "<div>\n",
       "<style scoped>\n",
       "    .dataframe tbody tr th:only-of-type {\n",
       "        vertical-align: middle;\n",
       "    }\n",
       "\n",
       "    .dataframe tbody tr th {\n",
       "        vertical-align: top;\n",
       "    }\n",
       "\n",
       "    .dataframe thead th {\n",
       "        text-align: right;\n",
       "    }\n",
       "</style>\n",
       "<table border=\"1\" class=\"dataframe\">\n",
       "  <thead>\n",
       "    <tr style=\"text-align: right;\">\n",
       "      <th></th>\n",
       "      <th>ResponseId</th>\n",
       "      <th>MainBranch</th>\n",
       "      <th>Employment</th>\n",
       "      <th>Country</th>\n",
       "      <th>US_State</th>\n",
       "      <th>UK_Country</th>\n",
       "      <th>EdLevel</th>\n",
       "      <th>Age1stCode</th>\n",
       "      <th>LearnCode</th>\n",
       "      <th>YearsCode</th>\n",
       "      <th>...</th>\n",
       "      <th>Age</th>\n",
       "      <th>Gender</th>\n",
       "      <th>Trans</th>\n",
       "      <th>Sexuality</th>\n",
       "      <th>Ethnicity</th>\n",
       "      <th>Accessibility</th>\n",
       "      <th>MentalHealth</th>\n",
       "      <th>SurveyLength</th>\n",
       "      <th>SurveyEase</th>\n",
       "      <th>ConvertedCompYearly</th>\n",
       "    </tr>\n",
       "  </thead>\n",
       "  <tbody>\n",
       "    <tr>\n",
       "      <th>0</th>\n",
       "      <td>1</td>\n",
       "      <td>I am a developer by profession</td>\n",
       "      <td>Independent contractor, freelancer, or self-em...</td>\n",
       "      <td>Slovakia</td>\n",
       "      <td>NaN</td>\n",
       "      <td>NaN</td>\n",
       "      <td>Secondary school (e.g. American high school, G...</td>\n",
       "      <td>18 - 24 years</td>\n",
       "      <td>Coding Bootcamp;Other online resources (ex: vi...</td>\n",
       "      <td>NaN</td>\n",
       "      <td>...</td>\n",
       "      <td>25-34 years old</td>\n",
       "      <td>Man</td>\n",
       "      <td>No</td>\n",
       "      <td>Straight / Heterosexual</td>\n",
       "      <td>White or of European descent</td>\n",
       "      <td>None of the above</td>\n",
       "      <td>None of the above</td>\n",
       "      <td>Appropriate in length</td>\n",
       "      <td>Easy</td>\n",
       "      <td>62268.0</td>\n",
       "    </tr>\n",
       "    <tr>\n",
       "      <th>1</th>\n",
       "      <td>2</td>\n",
       "      <td>I am a student who is learning to code</td>\n",
       "      <td>Student, full-time</td>\n",
       "      <td>Netherlands</td>\n",
       "      <td>NaN</td>\n",
       "      <td>NaN</td>\n",
       "      <td>Bachelor’s degree (B.A., B.S., B.Eng., etc.)</td>\n",
       "      <td>11 - 17 years</td>\n",
       "      <td>Other online resources (ex: videos, blogs, etc...</td>\n",
       "      <td>7</td>\n",
       "      <td>...</td>\n",
       "      <td>18-24 years old</td>\n",
       "      <td>Man</td>\n",
       "      <td>No</td>\n",
       "      <td>Straight / Heterosexual</td>\n",
       "      <td>White or of European descent</td>\n",
       "      <td>None of the above</td>\n",
       "      <td>None of the above</td>\n",
       "      <td>Appropriate in length</td>\n",
       "      <td>Easy</td>\n",
       "      <td>NaN</td>\n",
       "    </tr>\n",
       "    <tr>\n",
       "      <th>2</th>\n",
       "      <td>3</td>\n",
       "      <td>I am not primarily a developer, but I write co...</td>\n",
       "      <td>Student, full-time</td>\n",
       "      <td>Russian Federation</td>\n",
       "      <td>NaN</td>\n",
       "      <td>NaN</td>\n",
       "      <td>Bachelor’s degree (B.A., B.S., B.Eng., etc.)</td>\n",
       "      <td>11 - 17 years</td>\n",
       "      <td>Other online resources (ex: videos, blogs, etc...</td>\n",
       "      <td>NaN</td>\n",
       "      <td>...</td>\n",
       "      <td>18-24 years old</td>\n",
       "      <td>Man</td>\n",
       "      <td>No</td>\n",
       "      <td>Prefer not to say</td>\n",
       "      <td>Prefer not to say</td>\n",
       "      <td>None of the above</td>\n",
       "      <td>None of the above</td>\n",
       "      <td>Appropriate in length</td>\n",
       "      <td>Easy</td>\n",
       "      <td>NaN</td>\n",
       "    </tr>\n",
       "    <tr>\n",
       "      <th>3</th>\n",
       "      <td>4</td>\n",
       "      <td>I am a developer by profession</td>\n",
       "      <td>Employed full-time</td>\n",
       "      <td>Austria</td>\n",
       "      <td>NaN</td>\n",
       "      <td>NaN</td>\n",
       "      <td>Master’s degree (M.A., M.S., M.Eng., MBA, etc.)</td>\n",
       "      <td>11 - 17 years</td>\n",
       "      <td>NaN</td>\n",
       "      <td>NaN</td>\n",
       "      <td>...</td>\n",
       "      <td>35-44 years old</td>\n",
       "      <td>Man</td>\n",
       "      <td>No</td>\n",
       "      <td>Straight / Heterosexual</td>\n",
       "      <td>White or of European descent</td>\n",
       "      <td>I am deaf / hard of hearing</td>\n",
       "      <td>NaN</td>\n",
       "      <td>Appropriate in length</td>\n",
       "      <td>Neither easy nor difficult</td>\n",
       "      <td>NaN</td>\n",
       "    </tr>\n",
       "    <tr>\n",
       "      <th>4</th>\n",
       "      <td>5</td>\n",
       "      <td>I am a developer by profession</td>\n",
       "      <td>Independent contractor, freelancer, or self-em...</td>\n",
       "      <td>United Kingdom of Great Britain and Northern I...</td>\n",
       "      <td>NaN</td>\n",
       "      <td>England</td>\n",
       "      <td>Master’s degree (M.A., M.S., M.Eng., MBA, etc.)</td>\n",
       "      <td>5 - 10 years</td>\n",
       "      <td>Friend or family member</td>\n",
       "      <td>17</td>\n",
       "      <td>...</td>\n",
       "      <td>25-34 years old</td>\n",
       "      <td>Man</td>\n",
       "      <td>No</td>\n",
       "      <td>NaN</td>\n",
       "      <td>White or of European descent</td>\n",
       "      <td>None of the above</td>\n",
       "      <td>NaN</td>\n",
       "      <td>Appropriate in length</td>\n",
       "      <td>Easy</td>\n",
       "      <td>NaN</td>\n",
       "    </tr>\n",
       "  </tbody>\n",
       "</table>\n",
       "<p>5 rows × 48 columns</p>\n",
       "</div>"
      ],
      "text/plain": [
       "   ResponseId                                         MainBranch  \\\n",
       "0           1                     I am a developer by profession   \n",
       "1           2             I am a student who is learning to code   \n",
       "2           3  I am not primarily a developer, but I write co...   \n",
       "3           4                     I am a developer by profession   \n",
       "4           5                     I am a developer by profession   \n",
       "\n",
       "                                          Employment  \\\n",
       "0  Independent contractor, freelancer, or self-em...   \n",
       "1                                 Student, full-time   \n",
       "2                                 Student, full-time   \n",
       "3                                 Employed full-time   \n",
       "4  Independent contractor, freelancer, or self-em...   \n",
       "\n",
       "                                             Country US_State UK_Country  \\\n",
       "0                                           Slovakia      NaN        NaN   \n",
       "1                                        Netherlands      NaN        NaN   \n",
       "2                                 Russian Federation      NaN        NaN   \n",
       "3                                            Austria      NaN        NaN   \n",
       "4  United Kingdom of Great Britain and Northern I...      NaN    England   \n",
       "\n",
       "                                             EdLevel     Age1stCode  \\\n",
       "0  Secondary school (e.g. American high school, G...  18 - 24 years   \n",
       "1       Bachelor’s degree (B.A., B.S., B.Eng., etc.)  11 - 17 years   \n",
       "2       Bachelor’s degree (B.A., B.S., B.Eng., etc.)  11 - 17 years   \n",
       "3    Master’s degree (M.A., M.S., M.Eng., MBA, etc.)  11 - 17 years   \n",
       "4    Master’s degree (M.A., M.S., M.Eng., MBA, etc.)   5 - 10 years   \n",
       "\n",
       "                                           LearnCode YearsCode  ...  \\\n",
       "0  Coding Bootcamp;Other online resources (ex: vi...       NaN  ...   \n",
       "1  Other online resources (ex: videos, blogs, etc...         7  ...   \n",
       "2  Other online resources (ex: videos, blogs, etc...       NaN  ...   \n",
       "3                                                NaN       NaN  ...   \n",
       "4                            Friend or family member        17  ...   \n",
       "\n",
       "               Age Gender Trans                Sexuality  \\\n",
       "0  25-34 years old    Man    No  Straight / Heterosexual   \n",
       "1  18-24 years old    Man    No  Straight / Heterosexual   \n",
       "2  18-24 years old    Man    No        Prefer not to say   \n",
       "3  35-44 years old    Man    No  Straight / Heterosexual   \n",
       "4  25-34 years old    Man    No                      NaN   \n",
       "\n",
       "                      Ethnicity                Accessibility  \\\n",
       "0  White or of European descent            None of the above   \n",
       "1  White or of European descent            None of the above   \n",
       "2             Prefer not to say            None of the above   \n",
       "3  White or of European descent  I am deaf / hard of hearing   \n",
       "4  White or of European descent            None of the above   \n",
       "\n",
       "        MentalHealth           SurveyLength                  SurveyEase  \\\n",
       "0  None of the above  Appropriate in length                        Easy   \n",
       "1  None of the above  Appropriate in length                        Easy   \n",
       "2  None of the above  Appropriate in length                        Easy   \n",
       "3                NaN  Appropriate in length  Neither easy nor difficult   \n",
       "4                NaN  Appropriate in length                        Easy   \n",
       "\n",
       "  ConvertedCompYearly  \n",
       "0             62268.0  \n",
       "1                 NaN  \n",
       "2                 NaN  \n",
       "3                 NaN  \n",
       "4                 NaN  \n",
       "\n",
       "[5 rows x 48 columns]"
      ]
     },
     "execution_count": 2,
     "metadata": {},
     "output_type": "execute_result"
    }
   ],
   "source": [
    "survey_data = pd.read_csv('survey_results_public.csv')\n",
    "survey_data.head()"
   ]
  },
  {
   "cell_type": "code",
   "execution_count": 3,
   "metadata": {},
   "outputs": [
    {
     "name": "stdout",
     "output_type": "stream",
     "text": [
      "<class 'pandas.core.frame.DataFrame'>\n",
      "RangeIndex: 83439 entries, 0 to 83438\n",
      "Data columns (total 48 columns):\n",
      " #   Column                        Non-Null Count  Dtype  \n",
      "---  ------                        --------------  -----  \n",
      " 0   ResponseId                    83439 non-null  int64  \n",
      " 1   MainBranch                    83439 non-null  object \n",
      " 2   Employment                    83323 non-null  object \n",
      " 3   Country                       83439 non-null  object \n",
      " 4   US_State                      14920 non-null  object \n",
      " 5   UK_Country                    4418 non-null   object \n",
      " 6   EdLevel                       83126 non-null  object \n",
      " 7   Age1stCode                    83243 non-null  object \n",
      " 8   LearnCode                     82963 non-null  object \n",
      " 9   YearsCode                     81641 non-null  object \n",
      " 10  YearsCodePro                  61216 non-null  object \n",
      " 11  DevType                       66484 non-null  object \n",
      " 12  OrgSize                       60726 non-null  object \n",
      " 13  Currency                      61080 non-null  object \n",
      " 14  CompTotal                     47183 non-null  float64\n",
      " 15  CompFreq                      52150 non-null  object \n",
      " 16  LanguageHaveWorkedWith        82357 non-null  object \n",
      " 17  LanguageWantToWorkWith        76821 non-null  object \n",
      " 18  DatabaseHaveWorkedWith        69546 non-null  object \n",
      " 19  DatabaseWantToWorkWith        58299 non-null  object \n",
      " 20  PlatformHaveWorkedWith        52135 non-null  object \n",
      " 21  PlatformWantToWorkWith        41619 non-null  object \n",
      " 22  WebframeHaveWorkedWith        61707 non-null  object \n",
      " 23  WebframeWantToWorkWith        52095 non-null  object \n",
      " 24  MiscTechHaveWorkedWith        47055 non-null  object \n",
      " 25  MiscTechWantToWorkWith        38021 non-null  object \n",
      " 26  ToolsTechHaveWorkedWith       72537 non-null  object \n",
      " 27  ToolsTechWantToWorkWith       65480 non-null  object \n",
      " 28  NEWCollabToolsHaveWorkedWith  81234 non-null  object \n",
      " 29  NEWCollabToolsWantToWorkWith  73022 non-null  object \n",
      " 30  OpSys                         83294 non-null  object \n",
      " 31  NEWStuck                      83052 non-null  object \n",
      " 32  NEWSOSites                    83171 non-null  object \n",
      " 33  SOVisitFreq                   82413 non-null  object \n",
      " 34  SOAccount                     82525 non-null  object \n",
      " 35  SOPartFreq                    67553 non-null  object \n",
      " 36  SOComm                        82319 non-null  object \n",
      " 37  NEWOtherComms                 82828 non-null  object \n",
      " 38  Age                           82407 non-null  object \n",
      " 39  Gender                        82286 non-null  object \n",
      " 40  Trans                         80678 non-null  object \n",
      " 41  Sexuality                     73366 non-null  object \n",
      " 42  Ethnicity                     79464 non-null  object \n",
      " 43  Accessibility                 77603 non-null  object \n",
      " 44  MentalHealth                  76920 non-null  object \n",
      " 45  SurveyLength                  81711 non-null  object \n",
      " 46  SurveyEase                    81948 non-null  object \n",
      " 47  ConvertedCompYearly           46844 non-null  float64\n",
      "dtypes: float64(2), int64(1), object(45)\n",
      "memory usage: 30.6+ MB\n"
     ]
    }
   ],
   "source": [
    "survey_data.info()"
   ]
  },
  {
   "cell_type": "code",
   "execution_count": 4,
   "metadata": {},
   "outputs": [
    {
     "data": {
      "text/plain": [
       "(83439, 48)"
      ]
     },
     "execution_count": 4,
     "metadata": {},
     "output_type": "execute_result"
    }
   ],
   "source": [
    "survey_data.shape"
   ]
  },
  {
   "cell_type": "markdown",
   "metadata": {},
   "source": [
    "# Data preprocessing\n",
    "## Extract the data for the data analysis field professionals"
   ]
  },
  {
   "cell_type": "code",
   "execution_count": 5,
   "metadata": {},
   "outputs": [
    {
     "data": {
      "text/plain": [
       "0                                        Developer, mobile\n",
       "1                                                      NaN\n",
       "2                                                      NaN\n",
       "3                                     Developer, front-end\n",
       "4        Developer, desktop or enterprise applications;...\n",
       "                               ...                        \n",
       "83434                                  Developer, back-end\n",
       "83435                                Developer, full-stack\n",
       "83436    Data scientist or machine learning specialist;...\n",
       "83437                                  Developer, back-end\n",
       "83438    Developer, front-end;Developer, full-stack;Dev...\n",
       "Name: DevType, Length: 83439, dtype: object"
      ]
     },
     "execution_count": 5,
     "metadata": {},
     "output_type": "execute_result"
    }
   ],
   "source": [
    "survey_data['DevType']"
   ]
  },
  {
   "cell_type": "code",
   "execution_count": 25,
   "metadata": {},
   "outputs": [],
   "source": [
    "# create a new column to check wether a developer works in data analysis field or not, with True, False, NaN values\n",
    "survey_data['DataAnalysisField'] = survey_data['DevType'].str.contains('Data scientist or machine learning specialist'or'Data or business analyst'or'Engineer, data')"
   ]
  },
  {
   "cell_type": "code",
   "execution_count": 26,
   "metadata": {},
   "outputs": [
    {
     "data": {
      "text/html": [
       "<div>\n",
       "<style scoped>\n",
       "    .dataframe tbody tr th:only-of-type {\n",
       "        vertical-align: middle;\n",
       "    }\n",
       "\n",
       "    .dataframe tbody tr th {\n",
       "        vertical-align: top;\n",
       "    }\n",
       "\n",
       "    .dataframe thead th {\n",
       "        text-align: right;\n",
       "    }\n",
       "</style>\n",
       "<table border=\"1\" class=\"dataframe\">\n",
       "  <thead>\n",
       "    <tr style=\"text-align: right;\">\n",
       "      <th></th>\n",
       "      <th>ResponseId</th>\n",
       "      <th>MainBranch</th>\n",
       "      <th>Employment</th>\n",
       "      <th>Country</th>\n",
       "      <th>US_State</th>\n",
       "      <th>UK_Country</th>\n",
       "      <th>EdLevel</th>\n",
       "      <th>Age1stCode</th>\n",
       "      <th>LearnCode</th>\n",
       "      <th>YearsCode</th>\n",
       "      <th>...</th>\n",
       "      <th>Gender</th>\n",
       "      <th>Trans</th>\n",
       "      <th>Sexuality</th>\n",
       "      <th>Ethnicity</th>\n",
       "      <th>Accessibility</th>\n",
       "      <th>MentalHealth</th>\n",
       "      <th>SurveyLength</th>\n",
       "      <th>SurveyEase</th>\n",
       "      <th>ConvertedCompYearly</th>\n",
       "      <th>DataAnalysisField</th>\n",
       "    </tr>\n",
       "  </thead>\n",
       "  <tbody>\n",
       "    <tr>\n",
       "      <th>9</th>\n",
       "      <td>10</td>\n",
       "      <td>I am a developer by profession</td>\n",
       "      <td>Employed full-time</td>\n",
       "      <td>Sweden</td>\n",
       "      <td>NaN</td>\n",
       "      <td>NaN</td>\n",
       "      <td>Master’s degree (M.A., M.S., M.Eng., MBA, etc.)</td>\n",
       "      <td>11 - 17 years</td>\n",
       "      <td>School</td>\n",
       "      <td>7</td>\n",
       "      <td>...</td>\n",
       "      <td>Man</td>\n",
       "      <td>No</td>\n",
       "      <td>Straight / Heterosexual</td>\n",
       "      <td>White or of European descent</td>\n",
       "      <td>None of the above</td>\n",
       "      <td>None of the above</td>\n",
       "      <td>Appropriate in length</td>\n",
       "      <td>Neither easy nor difficult</td>\n",
       "      <td>51552.0</td>\n",
       "      <td>True</td>\n",
       "    </tr>\n",
       "    <tr>\n",
       "      <th>13</th>\n",
       "      <td>14</td>\n",
       "      <td>I am a student who is learning to code</td>\n",
       "      <td>Employed full-time</td>\n",
       "      <td>Peru</td>\n",
       "      <td>NaN</td>\n",
       "      <td>NaN</td>\n",
       "      <td>Master’s degree (M.A., M.S., M.Eng., MBA, etc.)</td>\n",
       "      <td>5 - 10 years</td>\n",
       "      <td>School</td>\n",
       "      <td>10</td>\n",
       "      <td>...</td>\n",
       "      <td>Prefer not to say</td>\n",
       "      <td>Prefer not to say</td>\n",
       "      <td>Prefer not to say</td>\n",
       "      <td>Prefer not to say</td>\n",
       "      <td>Prefer not to say</td>\n",
       "      <td>Prefer not to say</td>\n",
       "      <td>Too long</td>\n",
       "      <td>Neither easy nor difficult</td>\n",
       "      <td>NaN</td>\n",
       "      <td>True</td>\n",
       "    </tr>\n",
       "    <tr>\n",
       "      <th>23</th>\n",
       "      <td>24</td>\n",
       "      <td>I am a developer by profession</td>\n",
       "      <td>Employed full-time</td>\n",
       "      <td>France</td>\n",
       "      <td>NaN</td>\n",
       "      <td>NaN</td>\n",
       "      <td>Master’s degree (M.A., M.S., M.Eng., MBA, etc.)</td>\n",
       "      <td>11 - 17 years</td>\n",
       "      <td>School;Online Courses or Certification</td>\n",
       "      <td>9</td>\n",
       "      <td>...</td>\n",
       "      <td>Man</td>\n",
       "      <td>No</td>\n",
       "      <td>NaN</td>\n",
       "      <td>White or of European descent</td>\n",
       "      <td>None of the above</td>\n",
       "      <td>None of the above</td>\n",
       "      <td>Appropriate in length</td>\n",
       "      <td>Neither easy nor difficult</td>\n",
       "      <td>38915.0</td>\n",
       "      <td>True</td>\n",
       "    </tr>\n",
       "    <tr>\n",
       "      <th>58</th>\n",
       "      <td>59</td>\n",
       "      <td>I am not primarily a developer, but I write co...</td>\n",
       "      <td>Employed full-time</td>\n",
       "      <td>Russian Federation</td>\n",
       "      <td>NaN</td>\n",
       "      <td>NaN</td>\n",
       "      <td>Professional degree (JD, MD, etc.)</td>\n",
       "      <td>11 - 17 years</td>\n",
       "      <td>Other online resources (ex: videos, blogs, etc...</td>\n",
       "      <td>5</td>\n",
       "      <td>...</td>\n",
       "      <td>Man</td>\n",
       "      <td>No</td>\n",
       "      <td>Straight / Heterosexual</td>\n",
       "      <td>White or of European descent</td>\n",
       "      <td>None of the above</td>\n",
       "      <td>None of the above</td>\n",
       "      <td>Appropriate in length</td>\n",
       "      <td>Easy</td>\n",
       "      <td>22644.0</td>\n",
       "      <td>True</td>\n",
       "    </tr>\n",
       "    <tr>\n",
       "      <th>62</th>\n",
       "      <td>63</td>\n",
       "      <td>I am not primarily a developer, but I write co...</td>\n",
       "      <td>Employed full-time</td>\n",
       "      <td>United States of America</td>\n",
       "      <td>New York</td>\n",
       "      <td>NaN</td>\n",
       "      <td>Bachelor’s degree (B.A., B.S., B.Eng., etc.)</td>\n",
       "      <td>11 - 17 years</td>\n",
       "      <td>Online Forum</td>\n",
       "      <td>13</td>\n",
       "      <td>...</td>\n",
       "      <td>Man</td>\n",
       "      <td>No</td>\n",
       "      <td>Straight / Heterosexual</td>\n",
       "      <td>NaN</td>\n",
       "      <td>NaN</td>\n",
       "      <td>I have a concentration and/or memory disorder ...</td>\n",
       "      <td>Appropriate in length</td>\n",
       "      <td>Easy</td>\n",
       "      <td>130000.0</td>\n",
       "      <td>True</td>\n",
       "    </tr>\n",
       "  </tbody>\n",
       "</table>\n",
       "<p>5 rows × 49 columns</p>\n",
       "</div>"
      ],
      "text/plain": [
       "    ResponseId                                         MainBranch  \\\n",
       "9           10                     I am a developer by profession   \n",
       "13          14             I am a student who is learning to code   \n",
       "23          24                     I am a developer by profession   \n",
       "58          59  I am not primarily a developer, but I write co...   \n",
       "62          63  I am not primarily a developer, but I write co...   \n",
       "\n",
       "            Employment                   Country  US_State UK_Country  \\\n",
       "9   Employed full-time                    Sweden       NaN        NaN   \n",
       "13  Employed full-time                      Peru       NaN        NaN   \n",
       "23  Employed full-time                    France       NaN        NaN   \n",
       "58  Employed full-time        Russian Federation       NaN        NaN   \n",
       "62  Employed full-time  United States of America  New York        NaN   \n",
       "\n",
       "                                            EdLevel     Age1stCode  \\\n",
       "9   Master’s degree (M.A., M.S., M.Eng., MBA, etc.)  11 - 17 years   \n",
       "13  Master’s degree (M.A., M.S., M.Eng., MBA, etc.)   5 - 10 years   \n",
       "23  Master’s degree (M.A., M.S., M.Eng., MBA, etc.)  11 - 17 years   \n",
       "58               Professional degree (JD, MD, etc.)  11 - 17 years   \n",
       "62     Bachelor’s degree (B.A., B.S., B.Eng., etc.)  11 - 17 years   \n",
       "\n",
       "                                            LearnCode YearsCode  ...  \\\n",
       "9                                              School         7  ...   \n",
       "13                                             School        10  ...   \n",
       "23             School;Online Courses or Certification         9  ...   \n",
       "58  Other online resources (ex: videos, blogs, etc...         5  ...   \n",
       "62                                       Online Forum        13  ...   \n",
       "\n",
       "               Gender              Trans                Sexuality  \\\n",
       "9                 Man                 No  Straight / Heterosexual   \n",
       "13  Prefer not to say  Prefer not to say        Prefer not to say   \n",
       "23                Man                 No                      NaN   \n",
       "58                Man                 No  Straight / Heterosexual   \n",
       "62                Man                 No  Straight / Heterosexual   \n",
       "\n",
       "                       Ethnicity      Accessibility  \\\n",
       "9   White or of European descent  None of the above   \n",
       "13             Prefer not to say  Prefer not to say   \n",
       "23  White or of European descent  None of the above   \n",
       "58  White or of European descent  None of the above   \n",
       "62                           NaN                NaN   \n",
       "\n",
       "                                         MentalHealth           SurveyLength  \\\n",
       "9                                   None of the above  Appropriate in length   \n",
       "13                                  Prefer not to say               Too long   \n",
       "23                                  None of the above  Appropriate in length   \n",
       "58                                  None of the above  Appropriate in length   \n",
       "62  I have a concentration and/or memory disorder ...  Appropriate in length   \n",
       "\n",
       "                    SurveyEase ConvertedCompYearly DataAnalysisField  \n",
       "9   Neither easy nor difficult             51552.0              True  \n",
       "13  Neither easy nor difficult                 NaN              True  \n",
       "23  Neither easy nor difficult             38915.0              True  \n",
       "58                        Easy             22644.0              True  \n",
       "62                        Easy            130000.0              True  \n",
       "\n",
       "[5 rows x 49 columns]"
      ]
     },
     "execution_count": 26,
     "metadata": {},
     "output_type": "execute_result"
    }
   ],
   "source": [
    "# create a dataFrame with the developers who work in data analysis field\n",
    "d_a_f_s = survey_data[survey_data['DataAnalysisField']==True]\n",
    "d_a_f_s.head()"
   ]
  },
  {
   "cell_type": "code",
   "execution_count": 27,
   "metadata": {},
   "outputs": [
    {
     "data": {
      "text/plain": [
       "(4273, 49)"
      ]
     },
     "execution_count": 27,
     "metadata": {},
     "output_type": "execute_result"
    }
   ],
   "source": [
    "d_a_f_s.shape"
   ]
  },
  {
   "cell_type": "code",
   "execution_count": 28,
   "metadata": {},
   "outputs": [],
   "source": [
    "# There are 4273 developers who work in this field"
   ]
  },
  {
   "cell_type": "markdown",
   "metadata": {},
   "source": [
    "## Data Cleaning"
   ]
  },
  {
   "cell_type": "code",
   "execution_count": 29,
   "metadata": {},
   "outputs": [
    {
     "data": {
      "text/html": [
       "<div>\n",
       "<style scoped>\n",
       "    .dataframe tbody tr th:only-of-type {\n",
       "        vertical-align: middle;\n",
       "    }\n",
       "\n",
       "    .dataframe tbody tr th {\n",
       "        vertical-align: top;\n",
       "    }\n",
       "\n",
       "    .dataframe thead th {\n",
       "        text-align: right;\n",
       "    }\n",
       "</style>\n",
       "<table border=\"1\" class=\"dataframe\">\n",
       "  <thead>\n",
       "    <tr style=\"text-align: right;\">\n",
       "      <th></th>\n",
       "      <th>MainBranch</th>\n",
       "      <th>Employment</th>\n",
       "      <th>Country</th>\n",
       "      <th>US_State</th>\n",
       "      <th>UK_Country</th>\n",
       "      <th>EdLevel</th>\n",
       "      <th>Age1stCode</th>\n",
       "      <th>LearnCode</th>\n",
       "      <th>YearsCode</th>\n",
       "      <th>YearsCodePro</th>\n",
       "      <th>...</th>\n",
       "      <th>Gender</th>\n",
       "      <th>Trans</th>\n",
       "      <th>Sexuality</th>\n",
       "      <th>Ethnicity</th>\n",
       "      <th>Accessibility</th>\n",
       "      <th>MentalHealth</th>\n",
       "      <th>SurveyLength</th>\n",
       "      <th>SurveyEase</th>\n",
       "      <th>ConvertedCompYearly</th>\n",
       "      <th>DataAnalysisField</th>\n",
       "    </tr>\n",
       "    <tr>\n",
       "      <th>ResponseId</th>\n",
       "      <th></th>\n",
       "      <th></th>\n",
       "      <th></th>\n",
       "      <th></th>\n",
       "      <th></th>\n",
       "      <th></th>\n",
       "      <th></th>\n",
       "      <th></th>\n",
       "      <th></th>\n",
       "      <th></th>\n",
       "      <th></th>\n",
       "      <th></th>\n",
       "      <th></th>\n",
       "      <th></th>\n",
       "      <th></th>\n",
       "      <th></th>\n",
       "      <th></th>\n",
       "      <th></th>\n",
       "      <th></th>\n",
       "      <th></th>\n",
       "      <th></th>\n",
       "    </tr>\n",
       "  </thead>\n",
       "  <tbody>\n",
       "    <tr>\n",
       "      <th>10</th>\n",
       "      <td>I am a developer by profession</td>\n",
       "      <td>Employed full-time</td>\n",
       "      <td>Sweden</td>\n",
       "      <td>NaN</td>\n",
       "      <td>NaN</td>\n",
       "      <td>Master’s degree (M.A., M.S., M.Eng., MBA, etc.)</td>\n",
       "      <td>11 - 17 years</td>\n",
       "      <td>School</td>\n",
       "      <td>7</td>\n",
       "      <td>4</td>\n",
       "      <td>...</td>\n",
       "      <td>Man</td>\n",
       "      <td>No</td>\n",
       "      <td>Straight / Heterosexual</td>\n",
       "      <td>White or of European descent</td>\n",
       "      <td>None of the above</td>\n",
       "      <td>None of the above</td>\n",
       "      <td>Appropriate in length</td>\n",
       "      <td>Neither easy nor difficult</td>\n",
       "      <td>51552.0</td>\n",
       "      <td>True</td>\n",
       "    </tr>\n",
       "    <tr>\n",
       "      <th>14</th>\n",
       "      <td>I am a student who is learning to code</td>\n",
       "      <td>Employed full-time</td>\n",
       "      <td>Peru</td>\n",
       "      <td>NaN</td>\n",
       "      <td>NaN</td>\n",
       "      <td>Master’s degree (M.A., M.S., M.Eng., MBA, etc.)</td>\n",
       "      <td>5 - 10 years</td>\n",
       "      <td>School</td>\n",
       "      <td>10</td>\n",
       "      <td>NaN</td>\n",
       "      <td>...</td>\n",
       "      <td>Prefer not to say</td>\n",
       "      <td>Prefer not to say</td>\n",
       "      <td>Prefer not to say</td>\n",
       "      <td>Prefer not to say</td>\n",
       "      <td>Prefer not to say</td>\n",
       "      <td>Prefer not to say</td>\n",
       "      <td>Too long</td>\n",
       "      <td>Neither easy nor difficult</td>\n",
       "      <td>NaN</td>\n",
       "      <td>True</td>\n",
       "    </tr>\n",
       "    <tr>\n",
       "      <th>24</th>\n",
       "      <td>I am a developer by profession</td>\n",
       "      <td>Employed full-time</td>\n",
       "      <td>France</td>\n",
       "      <td>NaN</td>\n",
       "      <td>NaN</td>\n",
       "      <td>Master’s degree (M.A., M.S., M.Eng., MBA, etc.)</td>\n",
       "      <td>11 - 17 years</td>\n",
       "      <td>School;Online Courses or Certification</td>\n",
       "      <td>9</td>\n",
       "      <td>2</td>\n",
       "      <td>...</td>\n",
       "      <td>Man</td>\n",
       "      <td>No</td>\n",
       "      <td>NaN</td>\n",
       "      <td>White or of European descent</td>\n",
       "      <td>None of the above</td>\n",
       "      <td>None of the above</td>\n",
       "      <td>Appropriate in length</td>\n",
       "      <td>Neither easy nor difficult</td>\n",
       "      <td>38915.0</td>\n",
       "      <td>True</td>\n",
       "    </tr>\n",
       "    <tr>\n",
       "      <th>59</th>\n",
       "      <td>I am not primarily a developer, but I write co...</td>\n",
       "      <td>Employed full-time</td>\n",
       "      <td>Russian Federation</td>\n",
       "      <td>NaN</td>\n",
       "      <td>NaN</td>\n",
       "      <td>Professional degree (JD, MD, etc.)</td>\n",
       "      <td>11 - 17 years</td>\n",
       "      <td>Other online resources (ex: videos, blogs, etc...</td>\n",
       "      <td>5</td>\n",
       "      <td>3</td>\n",
       "      <td>...</td>\n",
       "      <td>Man</td>\n",
       "      <td>No</td>\n",
       "      <td>Straight / Heterosexual</td>\n",
       "      <td>White or of European descent</td>\n",
       "      <td>None of the above</td>\n",
       "      <td>None of the above</td>\n",
       "      <td>Appropriate in length</td>\n",
       "      <td>Easy</td>\n",
       "      <td>22644.0</td>\n",
       "      <td>True</td>\n",
       "    </tr>\n",
       "    <tr>\n",
       "      <th>63</th>\n",
       "      <td>I am not primarily a developer, but I write co...</td>\n",
       "      <td>Employed full-time</td>\n",
       "      <td>United States of America</td>\n",
       "      <td>New York</td>\n",
       "      <td>NaN</td>\n",
       "      <td>Bachelor’s degree (B.A., B.S., B.Eng., etc.)</td>\n",
       "      <td>11 - 17 years</td>\n",
       "      <td>Online Forum</td>\n",
       "      <td>13</td>\n",
       "      <td>5</td>\n",
       "      <td>...</td>\n",
       "      <td>Man</td>\n",
       "      <td>No</td>\n",
       "      <td>Straight / Heterosexual</td>\n",
       "      <td>NaN</td>\n",
       "      <td>NaN</td>\n",
       "      <td>I have a concentration and/or memory disorder ...</td>\n",
       "      <td>Appropriate in length</td>\n",
       "      <td>Easy</td>\n",
       "      <td>130000.0</td>\n",
       "      <td>True</td>\n",
       "    </tr>\n",
       "  </tbody>\n",
       "</table>\n",
       "<p>5 rows × 48 columns</p>\n",
       "</div>"
      ],
      "text/plain": [
       "                                                   MainBranch  \\\n",
       "ResponseId                                                      \n",
       "10                             I am a developer by profession   \n",
       "14                     I am a student who is learning to code   \n",
       "24                             I am a developer by profession   \n",
       "59          I am not primarily a developer, but I write co...   \n",
       "63          I am not primarily a developer, but I write co...   \n",
       "\n",
       "                    Employment                   Country  US_State UK_Country  \\\n",
       "ResponseId                                                                      \n",
       "10          Employed full-time                    Sweden       NaN        NaN   \n",
       "14          Employed full-time                      Peru       NaN        NaN   \n",
       "24          Employed full-time                    France       NaN        NaN   \n",
       "59          Employed full-time        Russian Federation       NaN        NaN   \n",
       "63          Employed full-time  United States of America  New York        NaN   \n",
       "\n",
       "                                                    EdLevel     Age1stCode  \\\n",
       "ResponseId                                                                   \n",
       "10          Master’s degree (M.A., M.S., M.Eng., MBA, etc.)  11 - 17 years   \n",
       "14          Master’s degree (M.A., M.S., M.Eng., MBA, etc.)   5 - 10 years   \n",
       "24          Master’s degree (M.A., M.S., M.Eng., MBA, etc.)  11 - 17 years   \n",
       "59                       Professional degree (JD, MD, etc.)  11 - 17 years   \n",
       "63             Bachelor’s degree (B.A., B.S., B.Eng., etc.)  11 - 17 years   \n",
       "\n",
       "                                                    LearnCode YearsCode  \\\n",
       "ResponseId                                                                \n",
       "10                                                     School         7   \n",
       "14                                                     School        10   \n",
       "24                     School;Online Courses or Certification         9   \n",
       "59          Other online resources (ex: videos, blogs, etc...         5   \n",
       "63                                               Online Forum        13   \n",
       "\n",
       "           YearsCodePro  ...             Gender              Trans  \\\n",
       "ResponseId               ...                                         \n",
       "10                    4  ...                Man                 No   \n",
       "14                  NaN  ...  Prefer not to say  Prefer not to say   \n",
       "24                    2  ...                Man                 No   \n",
       "59                    3  ...                Man                 No   \n",
       "63                    5  ...                Man                 No   \n",
       "\n",
       "                          Sexuality                     Ethnicity  \\\n",
       "ResponseId                                                          \n",
       "10          Straight / Heterosexual  White or of European descent   \n",
       "14                Prefer not to say             Prefer not to say   \n",
       "24                              NaN  White or of European descent   \n",
       "59          Straight / Heterosexual  White or of European descent   \n",
       "63          Straight / Heterosexual                           NaN   \n",
       "\n",
       "                Accessibility  \\\n",
       "ResponseId                      \n",
       "10          None of the above   \n",
       "14          Prefer not to say   \n",
       "24          None of the above   \n",
       "59          None of the above   \n",
       "63                        NaN   \n",
       "\n",
       "                                                 MentalHealth  \\\n",
       "ResponseId                                                      \n",
       "10                                          None of the above   \n",
       "14                                          Prefer not to say   \n",
       "24                                          None of the above   \n",
       "59                                          None of the above   \n",
       "63          I have a concentration and/or memory disorder ...   \n",
       "\n",
       "                     SurveyLength                  SurveyEase  \\\n",
       "ResponseId                                                      \n",
       "10          Appropriate in length  Neither easy nor difficult   \n",
       "14                       Too long  Neither easy nor difficult   \n",
       "24          Appropriate in length  Neither easy nor difficult   \n",
       "59          Appropriate in length                        Easy   \n",
       "63          Appropriate in length                        Easy   \n",
       "\n",
       "           ConvertedCompYearly DataAnalysisField  \n",
       "ResponseId                                        \n",
       "10                     51552.0              True  \n",
       "14                         NaN              True  \n",
       "24                     38915.0              True  \n",
       "59                     22644.0              True  \n",
       "63                    130000.0              True  \n",
       "\n",
       "[5 rows x 48 columns]"
      ]
     },
     "execution_count": 29,
     "metadata": {},
     "output_type": "execute_result"
    }
   ],
   "source": [
    "# change the index column\n",
    "d_a_f_s = d_a_f_s.set_index('ResponseId')\n",
    "d_a_f_s.head()"
   ]
  },
  {
   "cell_type": "code",
   "execution_count": 30,
   "metadata": {},
   "outputs": [
    {
     "data": {
      "text/plain": [
       "Index(['MainBranch', 'Employment', 'Country', 'US_State', 'UK_Country',\n",
       "       'EdLevel', 'Age1stCode', 'LearnCode', 'YearsCode', 'YearsCodePro',\n",
       "       'DevType', 'OrgSize', 'Currency', 'CompTotal', 'CompFreq',\n",
       "       'LanguageHaveWorkedWith', 'LanguageWantToWorkWith',\n",
       "       'DatabaseHaveWorkedWith', 'DatabaseWantToWorkWith',\n",
       "       'PlatformHaveWorkedWith', 'PlatformWantToWorkWith',\n",
       "       'WebframeHaveWorkedWith', 'WebframeWantToWorkWith',\n",
       "       'MiscTechHaveWorkedWith', 'MiscTechWantToWorkWith',\n",
       "       'ToolsTechHaveWorkedWith', 'ToolsTechWantToWorkWith',\n",
       "       'NEWCollabToolsHaveWorkedWith', 'NEWCollabToolsWantToWorkWith', 'OpSys',\n",
       "       'NEWStuck', 'NEWSOSites', 'SOVisitFreq', 'SOAccount', 'SOPartFreq',\n",
       "       'SOComm', 'NEWOtherComms', 'Age', 'Gender', 'Trans', 'Sexuality',\n",
       "       'Ethnicity', 'Accessibility', 'MentalHealth', 'SurveyLength',\n",
       "       'SurveyEase', 'ConvertedCompYearly', 'DataAnalysisField'],\n",
       "      dtype='object')"
      ]
     },
     "execution_count": 30,
     "metadata": {},
     "output_type": "execute_result"
    }
   ],
   "source": [
    "d_a_f_s.columns"
   ]
  },
  {
   "cell_type": "code",
   "execution_count": 34,
   "metadata": {},
   "outputs": [],
   "source": [
    "DA_results = d_a_f_s[['DevType', 'Employment', 'Country', 'LanguageHaveWorkedWith', 'LanguageWantToWorkWith', 'DatabaseHaveWorkedWith', 'DatabaseWantToWorkWith', 'WebframeHaveWorkedWith', 'WebframeWantToWorkWith',\n",
    "            'MiscTechHaveWorkedWith', 'MiscTechWantToWorkWith', 'ToolsTechHaveWorkedWith', 'ToolsTechWantToWorkWith', 'OpSys',  'Age', 'Gender']]"
   ]
  },
  {
   "cell_type": "code",
   "execution_count": 35,
   "metadata": {},
   "outputs": [
    {
     "data": {
      "text/html": [
       "<div>\n",
       "<style scoped>\n",
       "    .dataframe tbody tr th:only-of-type {\n",
       "        vertical-align: middle;\n",
       "    }\n",
       "\n",
       "    .dataframe tbody tr th {\n",
       "        vertical-align: top;\n",
       "    }\n",
       "\n",
       "    .dataframe thead th {\n",
       "        text-align: right;\n",
       "    }\n",
       "</style>\n",
       "<table border=\"1\" class=\"dataframe\">\n",
       "  <thead>\n",
       "    <tr style=\"text-align: right;\">\n",
       "      <th></th>\n",
       "      <th>DevType</th>\n",
       "      <th>Employment</th>\n",
       "      <th>Country</th>\n",
       "      <th>LanguageHaveWorkedWith</th>\n",
       "      <th>LanguageWantToWorkWith</th>\n",
       "      <th>DatabaseHaveWorkedWith</th>\n",
       "      <th>DatabaseWantToWorkWith</th>\n",
       "      <th>WebframeHaveWorkedWith</th>\n",
       "      <th>WebframeWantToWorkWith</th>\n",
       "      <th>MiscTechHaveWorkedWith</th>\n",
       "      <th>MiscTechWantToWorkWith</th>\n",
       "      <th>ToolsTechHaveWorkedWith</th>\n",
       "      <th>ToolsTechWantToWorkWith</th>\n",
       "      <th>OpSys</th>\n",
       "      <th>Age</th>\n",
       "      <th>Gender</th>\n",
       "    </tr>\n",
       "    <tr>\n",
       "      <th>ResponseId</th>\n",
       "      <th></th>\n",
       "      <th></th>\n",
       "      <th></th>\n",
       "      <th></th>\n",
       "      <th></th>\n",
       "      <th></th>\n",
       "      <th></th>\n",
       "      <th></th>\n",
       "      <th></th>\n",
       "      <th></th>\n",
       "      <th></th>\n",
       "      <th></th>\n",
       "      <th></th>\n",
       "      <th></th>\n",
       "      <th></th>\n",
       "      <th></th>\n",
       "    </tr>\n",
       "  </thead>\n",
       "  <tbody>\n",
       "    <tr>\n",
       "      <th>10</th>\n",
       "      <td>Data scientist or machine learning specialist</td>\n",
       "      <td>Employed full-time</td>\n",
       "      <td>Sweden</td>\n",
       "      <td>C++;Python</td>\n",
       "      <td>Haskell;Python</td>\n",
       "      <td>PostgreSQL</td>\n",
       "      <td>NaN</td>\n",
       "      <td>NaN</td>\n",
       "      <td>NaN</td>\n",
       "      <td>Keras;NumPy;Pandas;TensorFlow;Torch/PyTorch</td>\n",
       "      <td>Keras;NumPy;TensorFlow;Torch/PyTorch</td>\n",
       "      <td>Git</td>\n",
       "      <td>Git</td>\n",
       "      <td>Linux-based</td>\n",
       "      <td>25-34 years old</td>\n",
       "      <td>Man</td>\n",
       "    </tr>\n",
       "    <tr>\n",
       "      <th>14</th>\n",
       "      <td>Data scientist or machine learning specialist</td>\n",
       "      <td>Employed full-time</td>\n",
       "      <td>Peru</td>\n",
       "      <td>C;C++;JavaScript;Python;R;SQL</td>\n",
       "      <td>NaN</td>\n",
       "      <td>MySQL;PostgreSQL</td>\n",
       "      <td>NaN</td>\n",
       "      <td>Flask</td>\n",
       "      <td>Vue.js</td>\n",
       "      <td>Apache Spark;Pandas;TensorFlow</td>\n",
       "      <td>NaN</td>\n",
       "      <td>Docker;Git</td>\n",
       "      <td>NaN</td>\n",
       "      <td>MacOS</td>\n",
       "      <td>Prefer not to say</td>\n",
       "      <td>Prefer not to say</td>\n",
       "    </tr>\n",
       "    <tr>\n",
       "      <th>24</th>\n",
       "      <td>Engineer, data;Data scientist or machine learn...</td>\n",
       "      <td>Employed full-time</td>\n",
       "      <td>France</td>\n",
       "      <td>JavaScript;Python</td>\n",
       "      <td>Python;SQL</td>\n",
       "      <td>MySQL</td>\n",
       "      <td>Elasticsearch;MongoDB;MySQL;PostgreSQL</td>\n",
       "      <td>NaN</td>\n",
       "      <td>NaN</td>\n",
       "      <td>Apache Spark;Keras;NumPy;Pandas;TensorFlow;Tor...</td>\n",
       "      <td>Apache Spark;Keras;NumPy;Pandas;TensorFlow;Tor...</td>\n",
       "      <td>Docker;Git</td>\n",
       "      <td>Docker;Git;Kubernetes</td>\n",
       "      <td>Linux-based</td>\n",
       "      <td>25-34 years old</td>\n",
       "      <td>Man</td>\n",
       "    </tr>\n",
       "    <tr>\n",
       "      <th>59</th>\n",
       "      <td>Developer, full-stack;Data scientist or machin...</td>\n",
       "      <td>Employed full-time</td>\n",
       "      <td>Russian Federation</td>\n",
       "      <td>Bash/Shell;HTML/CSS;JavaScript;Python;SQL</td>\n",
       "      <td>Python</td>\n",
       "      <td>Oracle</td>\n",
       "      <td>Elasticsearch;MongoDB;PostgreSQL;Redis</td>\n",
       "      <td>Django;FastAPI;Vue.js</td>\n",
       "      <td>Django;FastAPI;Vue.js</td>\n",
       "      <td>NumPy;Pandas;Torch/PyTorch</td>\n",
       "      <td>NumPy;Pandas;Torch/PyTorch</td>\n",
       "      <td>Docker;Git</td>\n",
       "      <td>Ansible;Docker;Git</td>\n",
       "      <td>Linux-based</td>\n",
       "      <td>25-34 years old</td>\n",
       "      <td>Man</td>\n",
       "    </tr>\n",
       "    <tr>\n",
       "      <th>63</th>\n",
       "      <td>Developer, front-end;Developer, desktop or ent...</td>\n",
       "      <td>Employed full-time</td>\n",
       "      <td>United States of America</td>\n",
       "      <td>C#;HTML/CSS;JavaScript;Node.js;PowerShell;Pyth...</td>\n",
       "      <td>HTML/CSS;JavaScript;Node.js;Python;SQL</td>\n",
       "      <td>Microsoft SQL Server;Oracle;SQLite</td>\n",
       "      <td>Microsoft SQL Server</td>\n",
       "      <td>Express</td>\n",
       "      <td>Express</td>\n",
       "      <td>NaN</td>\n",
       "      <td>NaN</td>\n",
       "      <td>Git</td>\n",
       "      <td>Git</td>\n",
       "      <td>Windows</td>\n",
       "      <td>25-34 years old</td>\n",
       "      <td>Man</td>\n",
       "    </tr>\n",
       "  </tbody>\n",
       "</table>\n",
       "</div>"
      ],
      "text/plain": [
       "                                                      DevType  \\\n",
       "ResponseId                                                      \n",
       "10              Data scientist or machine learning specialist   \n",
       "14              Data scientist or machine learning specialist   \n",
       "24          Engineer, data;Data scientist or machine learn...   \n",
       "59          Developer, full-stack;Data scientist or machin...   \n",
       "63          Developer, front-end;Developer, desktop or ent...   \n",
       "\n",
       "                    Employment                   Country  \\\n",
       "ResponseId                                                 \n",
       "10          Employed full-time                    Sweden   \n",
       "14          Employed full-time                      Peru   \n",
       "24          Employed full-time                    France   \n",
       "59          Employed full-time        Russian Federation   \n",
       "63          Employed full-time  United States of America   \n",
       "\n",
       "                                       LanguageHaveWorkedWith  \\\n",
       "ResponseId                                                      \n",
       "10                                                 C++;Python   \n",
       "14                              C;C++;JavaScript;Python;R;SQL   \n",
       "24                                          JavaScript;Python   \n",
       "59                  Bash/Shell;HTML/CSS;JavaScript;Python;SQL   \n",
       "63          C#;HTML/CSS;JavaScript;Node.js;PowerShell;Pyth...   \n",
       "\n",
       "                            LanguageWantToWorkWith  \\\n",
       "ResponseId                                           \n",
       "10                                  Haskell;Python   \n",
       "14                                             NaN   \n",
       "24                                      Python;SQL   \n",
       "59                                          Python   \n",
       "63          HTML/CSS;JavaScript;Node.js;Python;SQL   \n",
       "\n",
       "                        DatabaseHaveWorkedWith  \\\n",
       "ResponseId                                       \n",
       "10                                  PostgreSQL   \n",
       "14                            MySQL;PostgreSQL   \n",
       "24                                       MySQL   \n",
       "59                                      Oracle   \n",
       "63          Microsoft SQL Server;Oracle;SQLite   \n",
       "\n",
       "                            DatabaseWantToWorkWith WebframeHaveWorkedWith  \\\n",
       "ResponseId                                                                  \n",
       "10                                             NaN                    NaN   \n",
       "14                                             NaN                  Flask   \n",
       "24          Elasticsearch;MongoDB;MySQL;PostgreSQL                    NaN   \n",
       "59          Elasticsearch;MongoDB;PostgreSQL;Redis  Django;FastAPI;Vue.js   \n",
       "63                            Microsoft SQL Server                Express   \n",
       "\n",
       "           WebframeWantToWorkWith  \\\n",
       "ResponseId                          \n",
       "10                            NaN   \n",
       "14                         Vue.js   \n",
       "24                            NaN   \n",
       "59          Django;FastAPI;Vue.js   \n",
       "63                        Express   \n",
       "\n",
       "                                       MiscTechHaveWorkedWith  \\\n",
       "ResponseId                                                      \n",
       "10                Keras;NumPy;Pandas;TensorFlow;Torch/PyTorch   \n",
       "14                             Apache Spark;Pandas;TensorFlow   \n",
       "24          Apache Spark;Keras;NumPy;Pandas;TensorFlow;Tor...   \n",
       "59                                 NumPy;Pandas;Torch/PyTorch   \n",
       "63                                                        NaN   \n",
       "\n",
       "                                       MiscTechWantToWorkWith  \\\n",
       "ResponseId                                                      \n",
       "10                       Keras;NumPy;TensorFlow;Torch/PyTorch   \n",
       "14                                                        NaN   \n",
       "24          Apache Spark;Keras;NumPy;Pandas;TensorFlow;Tor...   \n",
       "59                                 NumPy;Pandas;Torch/PyTorch   \n",
       "63                                                        NaN   \n",
       "\n",
       "           ToolsTechHaveWorkedWith ToolsTechWantToWorkWith        OpSys  \\\n",
       "ResponseId                                                                \n",
       "10                             Git                     Git  Linux-based   \n",
       "14                      Docker;Git                     NaN        MacOS   \n",
       "24                      Docker;Git   Docker;Git;Kubernetes  Linux-based   \n",
       "59                      Docker;Git      Ansible;Docker;Git  Linux-based   \n",
       "63                             Git                     Git      Windows   \n",
       "\n",
       "                          Age             Gender  \n",
       "ResponseId                                        \n",
       "10            25-34 years old                Man  \n",
       "14          Prefer not to say  Prefer not to say  \n",
       "24            25-34 years old                Man  \n",
       "59            25-34 years old                Man  \n",
       "63            25-34 years old                Man  "
      ]
     },
     "execution_count": 35,
     "metadata": {},
     "output_type": "execute_result"
    }
   ],
   "source": [
    "DA_results.head()"
   ]
  },
  {
   "cell_type": "code",
   "execution_count": 38,
   "metadata": {},
   "outputs": [
    {
     "name": "stderr",
     "output_type": "stream",
     "text": [
      "C:\\Users\\merts\\Anaconda3\\lib\\site-packages\\ipykernel_launcher.py:1: SettingWithCopyWarning: \n",
      "A value is trying to be set on a copy of a slice from a DataFrame.\n",
      "Try using .loc[row_indexer,col_indexer] = value instead\n",
      "\n",
      "See the caveats in the documentation: https://pandas.pydata.org/pandas-docs/stable/user_guide/indexing.html#returning-a-view-versus-a-copy\n",
      "  \"\"\"Entry point for launching an IPython kernel.\n"
     ]
    }
   ],
   "source": [
    "DA_results['Age'] = DA_results['Age'].apply(lambda x: str(x).replace('years old','') if 'years old' in str(x) else str(x))"
   ]
  },
  {
   "cell_type": "code",
   "execution_count": 39,
   "metadata": {},
   "outputs": [
    {
     "data": {
      "text/html": [
       "<div>\n",
       "<style scoped>\n",
       "    .dataframe tbody tr th:only-of-type {\n",
       "        vertical-align: middle;\n",
       "    }\n",
       "\n",
       "    .dataframe tbody tr th {\n",
       "        vertical-align: top;\n",
       "    }\n",
       "\n",
       "    .dataframe thead th {\n",
       "        text-align: right;\n",
       "    }\n",
       "</style>\n",
       "<table border=\"1\" class=\"dataframe\">\n",
       "  <thead>\n",
       "    <tr style=\"text-align: right;\">\n",
       "      <th></th>\n",
       "      <th>DevType</th>\n",
       "      <th>Employment</th>\n",
       "      <th>Country</th>\n",
       "      <th>LanguageHaveWorkedWith</th>\n",
       "      <th>LanguageWantToWorkWith</th>\n",
       "      <th>DatabaseHaveWorkedWith</th>\n",
       "      <th>DatabaseWantToWorkWith</th>\n",
       "      <th>WebframeHaveWorkedWith</th>\n",
       "      <th>WebframeWantToWorkWith</th>\n",
       "      <th>MiscTechHaveWorkedWith</th>\n",
       "      <th>MiscTechWantToWorkWith</th>\n",
       "      <th>ToolsTechHaveWorkedWith</th>\n",
       "      <th>ToolsTechWantToWorkWith</th>\n",
       "      <th>OpSys</th>\n",
       "      <th>Age</th>\n",
       "      <th>Gender</th>\n",
       "    </tr>\n",
       "    <tr>\n",
       "      <th>ResponseId</th>\n",
       "      <th></th>\n",
       "      <th></th>\n",
       "      <th></th>\n",
       "      <th></th>\n",
       "      <th></th>\n",
       "      <th></th>\n",
       "      <th></th>\n",
       "      <th></th>\n",
       "      <th></th>\n",
       "      <th></th>\n",
       "      <th></th>\n",
       "      <th></th>\n",
       "      <th></th>\n",
       "      <th></th>\n",
       "      <th></th>\n",
       "      <th></th>\n",
       "    </tr>\n",
       "  </thead>\n",
       "  <tbody>\n",
       "    <tr>\n",
       "      <th>10</th>\n",
       "      <td>Data scientist or machine learning specialist</td>\n",
       "      <td>Employed full-time</td>\n",
       "      <td>Sweden</td>\n",
       "      <td>C++;Python</td>\n",
       "      <td>Haskell;Python</td>\n",
       "      <td>PostgreSQL</td>\n",
       "      <td>NaN</td>\n",
       "      <td>NaN</td>\n",
       "      <td>NaN</td>\n",
       "      <td>Keras;NumPy;Pandas;TensorFlow;Torch/PyTorch</td>\n",
       "      <td>Keras;NumPy;TensorFlow;Torch/PyTorch</td>\n",
       "      <td>Git</td>\n",
       "      <td>Git</td>\n",
       "      <td>Linux-based</td>\n",
       "      <td>25-34</td>\n",
       "      <td>Man</td>\n",
       "    </tr>\n",
       "    <tr>\n",
       "      <th>14</th>\n",
       "      <td>Data scientist or machine learning specialist</td>\n",
       "      <td>Employed full-time</td>\n",
       "      <td>Peru</td>\n",
       "      <td>C;C++;JavaScript;Python;R;SQL</td>\n",
       "      <td>NaN</td>\n",
       "      <td>MySQL;PostgreSQL</td>\n",
       "      <td>NaN</td>\n",
       "      <td>Flask</td>\n",
       "      <td>Vue.js</td>\n",
       "      <td>Apache Spark;Pandas;TensorFlow</td>\n",
       "      <td>NaN</td>\n",
       "      <td>Docker;Git</td>\n",
       "      <td>NaN</td>\n",
       "      <td>MacOS</td>\n",
       "      <td>Prefer not to say</td>\n",
       "      <td>Prefer not to say</td>\n",
       "    </tr>\n",
       "    <tr>\n",
       "      <th>24</th>\n",
       "      <td>Engineer, data;Data scientist or machine learn...</td>\n",
       "      <td>Employed full-time</td>\n",
       "      <td>France</td>\n",
       "      <td>JavaScript;Python</td>\n",
       "      <td>Python;SQL</td>\n",
       "      <td>MySQL</td>\n",
       "      <td>Elasticsearch;MongoDB;MySQL;PostgreSQL</td>\n",
       "      <td>NaN</td>\n",
       "      <td>NaN</td>\n",
       "      <td>Apache Spark;Keras;NumPy;Pandas;TensorFlow;Tor...</td>\n",
       "      <td>Apache Spark;Keras;NumPy;Pandas;TensorFlow;Tor...</td>\n",
       "      <td>Docker;Git</td>\n",
       "      <td>Docker;Git;Kubernetes</td>\n",
       "      <td>Linux-based</td>\n",
       "      <td>25-34</td>\n",
       "      <td>Man</td>\n",
       "    </tr>\n",
       "    <tr>\n",
       "      <th>59</th>\n",
       "      <td>Developer, full-stack;Data scientist or machin...</td>\n",
       "      <td>Employed full-time</td>\n",
       "      <td>Russian Federation</td>\n",
       "      <td>Bash/Shell;HTML/CSS;JavaScript;Python;SQL</td>\n",
       "      <td>Python</td>\n",
       "      <td>Oracle</td>\n",
       "      <td>Elasticsearch;MongoDB;PostgreSQL;Redis</td>\n",
       "      <td>Django;FastAPI;Vue.js</td>\n",
       "      <td>Django;FastAPI;Vue.js</td>\n",
       "      <td>NumPy;Pandas;Torch/PyTorch</td>\n",
       "      <td>NumPy;Pandas;Torch/PyTorch</td>\n",
       "      <td>Docker;Git</td>\n",
       "      <td>Ansible;Docker;Git</td>\n",
       "      <td>Linux-based</td>\n",
       "      <td>25-34</td>\n",
       "      <td>Man</td>\n",
       "    </tr>\n",
       "    <tr>\n",
       "      <th>63</th>\n",
       "      <td>Developer, front-end;Developer, desktop or ent...</td>\n",
       "      <td>Employed full-time</td>\n",
       "      <td>United States of America</td>\n",
       "      <td>C#;HTML/CSS;JavaScript;Node.js;PowerShell;Pyth...</td>\n",
       "      <td>HTML/CSS;JavaScript;Node.js;Python;SQL</td>\n",
       "      <td>Microsoft SQL Server;Oracle;SQLite</td>\n",
       "      <td>Microsoft SQL Server</td>\n",
       "      <td>Express</td>\n",
       "      <td>Express</td>\n",
       "      <td>NaN</td>\n",
       "      <td>NaN</td>\n",
       "      <td>Git</td>\n",
       "      <td>Git</td>\n",
       "      <td>Windows</td>\n",
       "      <td>25-34</td>\n",
       "      <td>Man</td>\n",
       "    </tr>\n",
       "  </tbody>\n",
       "</table>\n",
       "</div>"
      ],
      "text/plain": [
       "                                                      DevType  \\\n",
       "ResponseId                                                      \n",
       "10              Data scientist or machine learning specialist   \n",
       "14              Data scientist or machine learning specialist   \n",
       "24          Engineer, data;Data scientist or machine learn...   \n",
       "59          Developer, full-stack;Data scientist or machin...   \n",
       "63          Developer, front-end;Developer, desktop or ent...   \n",
       "\n",
       "                    Employment                   Country  \\\n",
       "ResponseId                                                 \n",
       "10          Employed full-time                    Sweden   \n",
       "14          Employed full-time                      Peru   \n",
       "24          Employed full-time                    France   \n",
       "59          Employed full-time        Russian Federation   \n",
       "63          Employed full-time  United States of America   \n",
       "\n",
       "                                       LanguageHaveWorkedWith  \\\n",
       "ResponseId                                                      \n",
       "10                                                 C++;Python   \n",
       "14                              C;C++;JavaScript;Python;R;SQL   \n",
       "24                                          JavaScript;Python   \n",
       "59                  Bash/Shell;HTML/CSS;JavaScript;Python;SQL   \n",
       "63          C#;HTML/CSS;JavaScript;Node.js;PowerShell;Pyth...   \n",
       "\n",
       "                            LanguageWantToWorkWith  \\\n",
       "ResponseId                                           \n",
       "10                                  Haskell;Python   \n",
       "14                                             NaN   \n",
       "24                                      Python;SQL   \n",
       "59                                          Python   \n",
       "63          HTML/CSS;JavaScript;Node.js;Python;SQL   \n",
       "\n",
       "                        DatabaseHaveWorkedWith  \\\n",
       "ResponseId                                       \n",
       "10                                  PostgreSQL   \n",
       "14                            MySQL;PostgreSQL   \n",
       "24                                       MySQL   \n",
       "59                                      Oracle   \n",
       "63          Microsoft SQL Server;Oracle;SQLite   \n",
       "\n",
       "                            DatabaseWantToWorkWith WebframeHaveWorkedWith  \\\n",
       "ResponseId                                                                  \n",
       "10                                             NaN                    NaN   \n",
       "14                                             NaN                  Flask   \n",
       "24          Elasticsearch;MongoDB;MySQL;PostgreSQL                    NaN   \n",
       "59          Elasticsearch;MongoDB;PostgreSQL;Redis  Django;FastAPI;Vue.js   \n",
       "63                            Microsoft SQL Server                Express   \n",
       "\n",
       "           WebframeWantToWorkWith  \\\n",
       "ResponseId                          \n",
       "10                            NaN   \n",
       "14                         Vue.js   \n",
       "24                            NaN   \n",
       "59          Django;FastAPI;Vue.js   \n",
       "63                        Express   \n",
       "\n",
       "                                       MiscTechHaveWorkedWith  \\\n",
       "ResponseId                                                      \n",
       "10                Keras;NumPy;Pandas;TensorFlow;Torch/PyTorch   \n",
       "14                             Apache Spark;Pandas;TensorFlow   \n",
       "24          Apache Spark;Keras;NumPy;Pandas;TensorFlow;Tor...   \n",
       "59                                 NumPy;Pandas;Torch/PyTorch   \n",
       "63                                                        NaN   \n",
       "\n",
       "                                       MiscTechWantToWorkWith  \\\n",
       "ResponseId                                                      \n",
       "10                       Keras;NumPy;TensorFlow;Torch/PyTorch   \n",
       "14                                                        NaN   \n",
       "24          Apache Spark;Keras;NumPy;Pandas;TensorFlow;Tor...   \n",
       "59                                 NumPy;Pandas;Torch/PyTorch   \n",
       "63                                                        NaN   \n",
       "\n",
       "           ToolsTechHaveWorkedWith ToolsTechWantToWorkWith        OpSys  \\\n",
       "ResponseId                                                                \n",
       "10                             Git                     Git  Linux-based   \n",
       "14                      Docker;Git                     NaN        MacOS   \n",
       "24                      Docker;Git   Docker;Git;Kubernetes  Linux-based   \n",
       "59                      Docker;Git      Ansible;Docker;Git  Linux-based   \n",
       "63                             Git                     Git      Windows   \n",
       "\n",
       "                          Age             Gender  \n",
       "ResponseId                                        \n",
       "10                     25-34                 Man  \n",
       "14          Prefer not to say  Prefer not to say  \n",
       "24                     25-34                 Man  \n",
       "59                     25-34                 Man  \n",
       "63                     25-34                 Man  "
      ]
     },
     "execution_count": 39,
     "metadata": {},
     "output_type": "execute_result"
    }
   ],
   "source": [
    "DA_results.head()"
   ]
  },
  {
   "cell_type": "markdown",
   "metadata": {},
   "source": [
    "## EDA"
   ]
  },
  {
   "cell_type": "markdown",
   "metadata": {},
   "source": [
    "### Personal Info"
   ]
  },
  {
   "cell_type": "code",
   "execution_count": 98,
   "metadata": {},
   "outputs": [
    {
     "data": {
      "text/plain": [
       "<matplotlib.axes._subplots.AxesSubplot at 0x23868498908>"
      ]
     },
     "execution_count": 98,
     "metadata": {},
     "output_type": "execute_result"
    },
    {
     "data": {
      "image/png": "[encoded data removed]",
      "text/plain": [
       "<Figure size 1080x504 with 1 Axes>"
      ]
     },
     "metadata": {
      "needs_background": "light"
     },
     "output_type": "display_data"
    }
   ],
   "source": [
    "DA_results['Gender'].value_counts(normalize=True)\n",
    "DA_results['Gender'].value_counts(normalize=True).plot(kind='bar', figsize=(15,7))"
   ]
  },
  {
   "cell_type": "code",
   "execution_count": 43,
   "metadata": {},
   "outputs": [],
   "source": [
    "# The majority of professionals in ths field are men (91%)"
   ]
  },
  {
   "cell_type": "code",
   "execution_count": 99,
   "metadata": {},
   "outputs": [
    {
     "data": {
      "text/plain": [
       "<matplotlib.axes._subplots.AxesSubplot at 0x23868ccb808>"
      ]
     },
     "execution_count": 99,
     "metadata": {},
     "output_type": "execute_result"
    },
    {
     "data": {
      "image/png": "[encoded data removed]",
      "text/plain": [
       "<Figure size 1080x504 with 1 Axes>"
      ]
     },
     "metadata": {
      "needs_background": "light"
     },
     "output_type": "display_data"
    }
   ],
   "source": [
    "DA_results['Employment'].value_counts(normalize=True)\n",
    "DA_results['Employment'].value_counts(normalize=True).plot(kind='bar', figsize=(15,7))"
   ]
  },
  {
   "cell_type": "code",
   "execution_count": 49,
   "metadata": {},
   "outputs": [],
   "source": [
    "# The majority of professionals in ths field are employed full-time (79%)"
   ]
  },
  {
   "cell_type": "code",
   "execution_count": 100,
   "metadata": {},
   "outputs": [
    {
     "data": {
      "text/plain": [
       "<matplotlib.axes._subplots.AxesSubplot at 0x23868d1d1c8>"
      ]
     },
     "execution_count": 100,
     "metadata": {},
     "output_type": "execute_result"
    },
    {
     "data": {
      "image/png": "[encoded data removed]",
      "text/plain": [
       "<Figure size 1080x504 with 1 Axes>"
      ]
     },
     "metadata": {
      "needs_background": "light"
     },
     "output_type": "display_data"
    }
   ],
   "source": [
    "DA_results['Age'].value_counts(normalize=True)\n",
    "DA_results['Age'].value_counts(normalize=True).plot(kind='bar', figsize=(15,7))"
   ]
  },
  {
   "cell_type": "code",
   "execution_count": 69,
   "metadata": {},
   "outputs": [],
   "source": [
    "# almost 50% of the developers are aged between 25 to 34"
   ]
  },
  {
   "cell_type": "markdown",
   "metadata": {},
   "source": [
    "### Languages"
   ]
  },
  {
   "cell_type": "code",
   "execution_count": 101,
   "metadata": {},
   "outputs": [
    {
     "data": {
      "text/plain": [
       "<matplotlib.axes._subplots.AxesSubplot at 0x238692d2bc8>"
      ]
     },
     "execution_count": 101,
     "metadata": {},
     "output_type": "execute_result"
    },
    {
     "data": {
      "image/png": "[encoded data removed]",
      "text/plain": [
       "<Figure size 1080x504 with 1 Axes>"
      ]
     },
     "metadata": {
      "needs_background": "light"
     },
     "output_type": "display_data"
    }
   ],
   "source": [
    "languages = DA_results['LanguageHaveWorkedWith'].str.split(';', expand=True)\n",
    "#languages.head()\n",
    "#languages.stack().value_counts(normalize=True)\n",
    "languages.stack().value_counts(normalize=True).plot(kind='bar',figsize=(15,7))"
   ]
  },
  {
   "cell_type": "code",
   "execution_count": 55,
   "metadata": {},
   "outputs": [],
   "source": [
    "# 16% have worked with Python and 10% with SQL"
   ]
  },
  {
   "cell_type": "code",
   "execution_count": 102,
   "metadata": {},
   "outputs": [
    {
     "data": {
      "text/plain": [
       "<matplotlib.axes._subplots.AxesSubplot at 0x23860f12cc8>"
      ]
     },
     "execution_count": 102,
     "metadata": {},
     "output_type": "execute_result"
    },
    {
     "data": {
      "image/png": "[encoded data removed]",
      "text/plain": [
       "<Figure size 1080x504 with 1 Axes>"
      ]
     },
     "metadata": {
      "needs_background": "light"
     },
     "output_type": "display_data"
    }
   ],
   "source": [
    "languages_want_to_work = DA_results['LanguageWantToWorkWith'].str.split(';', expand=True)\n",
    "#languages_want_to_work.stack().value_counts(normalize=True)\n",
    "languages_want_to_work.stack().value_counts(normalize=True).plot(kind='bar',figsize=(15,7))"
   ]
  },
  {
   "cell_type": "code",
   "execution_count": 64,
   "metadata": {},
   "outputs": [],
   "source": [
    "# 17% would like to work with Python and 9% with SQL"
   ]
  },
  {
   "cell_type": "markdown",
   "metadata": {},
   "source": [
    "### Databases"
   ]
  },
  {
   "cell_type": "code",
   "execution_count": 103,
   "metadata": {},
   "outputs": [
    {
     "data": {
      "text/plain": [
       "<matplotlib.axes._subplots.AxesSubplot at 0x23862551808>"
      ]
     },
     "execution_count": 103,
     "metadata": {},
     "output_type": "execute_result"
    },
    {
     "data": {
      "image/png": "[encoded data removed]",
      "text/plain": [
       "<Figure size 1080x504 with 1 Axes>"
      ]
     },
     "metadata": {
      "needs_background": "light"
     },
     "output_type": "display_data"
    }
   ],
   "source": [
    "database = DA_results['DatabaseHaveWorkedWith'].str.split(';', expand=True)\n",
    "#database.stack().value_counts(normalize=True)\n",
    "database.stack().value_counts(normalize=True).plot(kind='bar',figsize=(15,7))"
   ]
  },
  {
   "cell_type": "code",
   "execution_count": 73,
   "metadata": {},
   "outputs": [],
   "source": [
    "# 17% have worked with PostgreSQL, 16% with MySQL and 13.5% with SQLite"
   ]
  },
  {
   "cell_type": "code",
   "execution_count": 104,
   "metadata": {},
   "outputs": [
    {
     "data": {
      "text/plain": [
       "<matplotlib.axes._subplots.AxesSubplot at 0x23862632f48>"
      ]
     },
     "execution_count": 104,
     "metadata": {},
     "output_type": "execute_result"
    },
    {
     "data": {
      "image/png": "[encoded data removed]",
      "text/plain": [
       "<Figure size 1080x504 with 1 Axes>"
      ]
     },
     "metadata": {
      "needs_background": "light"
     },
     "output_type": "display_data"
    }
   ],
   "source": [
    "database_want_to_work = DA_results['DatabaseWantToWorkWith'].str.split(';', expand=True)\n",
    "#database_want_to_work.stack().value_counts(normalize=True)\n",
    "database_want_to_work.stack().value_counts(normalize=True).plot(kind='bar',figsize=(15,7))"
   ]
  },
  {
   "cell_type": "code",
   "execution_count": 76,
   "metadata": {},
   "outputs": [],
   "source": [
    "# 18% would like to work with PostgreSQL, 11% with MySQL, MongoDB and SQLite"
   ]
  },
  {
   "cell_type": "markdown",
   "metadata": {},
   "source": [
    "### Libraries and Frameworks"
   ]
  },
  {
   "cell_type": "code",
   "execution_count": 105,
   "metadata": {},
   "outputs": [
    {
     "data": {
      "text/plain": [
       "<matplotlib.axes._subplots.AxesSubplot at 0x2386dcd4548>"
      ]
     },
     "execution_count": 105,
     "metadata": {},
     "output_type": "execute_result"
    },
    {
     "data": {
      "image/png": "[encoded data removed]",
      "text/plain": [
       "<Figure size 1080x504 with 1 Axes>"
      ]
     },
     "metadata": {
      "needs_background": "light"
     },
     "output_type": "display_data"
    }
   ],
   "source": [
    "misc = DA_results['MiscTechHaveWorkedWith'].str.split(';', expand=True)\n",
    "#misc.head()\n",
    "#misc.stack().value_counts(normalize=True)\n",
    "misc.stack().value_counts(normalize=True).plot(kind='bar',figsize=(15,7))"
   ]
  },
  {
   "cell_type": "code",
   "execution_count": 83,
   "metadata": {},
   "outputs": [],
   "source": [
    "# the most popular frameworks and libraries are Numpy(22%), Pandas(20%) and TensorFlow(13%)"
   ]
  },
  {
   "cell_type": "code",
   "execution_count": 106,
   "metadata": {},
   "outputs": [
    {
     "data": {
      "text/plain": [
       "<matplotlib.axes._subplots.AxesSubplot at 0x23862689808>"
      ]
     },
     "execution_count": 106,
     "metadata": {},
     "output_type": "execute_result"
    },
    {
     "data": {
      "image/png": "[encoded data removed]",
      "text/plain": [
       "<Figure size 1080x504 with 1 Axes>"
      ]
     },
     "metadata": {
      "needs_background": "light"
     },
     "output_type": "display_data"
    }
   ],
   "source": [
    "misc_to_work = DA_results['MiscTechWantToWorkWith'].str.split(';', expand=True)\n",
    "#misc_to_work.stack().value_counts(normalize=True)\n",
    "misc_to_work.stack().value_counts(normalize=True).plot(kind='bar',figsize=(15,7))"
   ]
  },
  {
   "cell_type": "code",
   "execution_count": 86,
   "metadata": {},
   "outputs": [],
   "source": [
    "# the 19% would like to work with NumPy, 17% with Pandas and 15% with TensorFlow"
   ]
  },
  {
   "cell_type": "markdown",
   "metadata": {},
   "source": [
    "### Tools"
   ]
  },
  {
   "cell_type": "code",
   "execution_count": 107,
   "metadata": {},
   "outputs": [
    {
     "data": {
      "text/plain": [
       "<matplotlib.axes._subplots.AxesSubplot at 0x238626c18c8>"
      ]
     },
     "execution_count": 107,
     "metadata": {},
     "output_type": "execute_result"
    },
    {
     "data": {
      "image/png": "[encoded data removed]",
      "text/plain": [
       "<Figure size 1080x504 with 1 Axes>"
      ]
     },
     "metadata": {
      "needs_background": "light"
     },
     "output_type": "display_data"
    }
   ],
   "source": [
    "tools = DA_results['ToolsTechHaveWorkedWith'].str.split(';', expand=True)\n",
    "#tools.stack().value_counts(normalize=True)\n",
    "tools.stack().value_counts(normalize=True).plot(kind='bar',figsize=(15,7))"
   ]
  },
  {
   "cell_type": "code",
   "execution_count": 89,
   "metadata": {},
   "outputs": [],
   "source": [
    "# 41% have worked with Git"
   ]
  },
  {
   "cell_type": "code",
   "execution_count": 108,
   "metadata": {},
   "outputs": [
    {
     "data": {
      "text/plain": [
       "<matplotlib.axes._subplots.AxesSubplot at 0x23868485c08>"
      ]
     },
     "execution_count": 108,
     "metadata": {},
     "output_type": "execute_result"
    },
    {
     "data": {
      "image/png": "[encoded data removed]",
      "text/plain": [
       "<Figure size 1080x504 with 1 Axes>"
      ]
     },
     "metadata": {
      "needs_background": "light"
     },
     "output_type": "display_data"
    }
   ],
   "source": [
    "tools_to_work = DA_results['ToolsTechWantToWorkWith'].str.split(';', expand=True)\n",
    "#tools_to_work.stack().value_counts(normalize=True)\n",
    "tools_to_work.stack().value_counts(normalize=True).plot(kind='bar',figsize=(15,7))"
   ]
  },
  {
   "cell_type": "code",
   "execution_count": 92,
   "metadata": {},
   "outputs": [],
   "source": [
    "# 34% would like to work with Git and 25% with Docker"
   ]
  },
  {
   "cell_type": "markdown",
   "metadata": {},
   "source": [
    "### OpSys"
   ]
  },
  {
   "cell_type": "code",
   "execution_count": 109,
   "metadata": {},
   "outputs": [
    {
     "data": {
      "text/plain": [
       "<matplotlib.axes._subplots.AxesSubplot at 0x2386843ed08>"
      ]
     },
     "execution_count": 109,
     "metadata": {},
     "output_type": "execute_result"
    },
    {
     "data": {
      "image/png": "[encoded data removed]",
      "text/plain": [
       "<Figure size 1080x504 with 1 Axes>"
      ]
     },
     "metadata": {
      "needs_background": "light"
     },
     "output_type": "display_data"
    }
   ],
   "source": [
    "DA_results['OpSys'].value_counts(normalize=True)\n",
    "DA_results['OpSys'].value_counts(normalize=True).plot(kind='bar', figsize=(15,7))"
   ]
  },
  {
   "cell_type": "code",
   "execution_count": 96,
   "metadata": {},
   "outputs": [],
   "source": [
    "# 37% use Windows, 36% Linux and 21.5% Mac"
   ]
  }
 ],
 "metadata": {
  "interpreter": {
   "hash": "6118181ad8b6e10d2e3ce85e6963373e9b35cf098b159d749972f2a3ab91c3f1"
  },
  "kernelspec": {
   "display_name": "Python 3.7.4 64-bit ('base': conda)",
   "language": "python",
   "name": "python3"
  },
  "language_info": {
   "codemirror_mode": {
    "name": "ipython",
    "version": 3
   },
   "file_extension": ".py",
   "mimetype": "text/x-python",
   "name": "python",
   "nbconvert_exporter": "python",
   "pygments_lexer": "ipython3",
   "version": "3.7.4"
  },
  "orig_nbformat": 4
 },
 "nbformat": 4,
 "nbformat_minor": 2
}
